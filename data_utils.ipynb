{
 "cells": [
  {
   "cell_type": "code",
   "execution_count": 10,
   "id": "9bbb9b4f",
   "metadata": {},
   "outputs": [],
   "source": [
    "import subprocess\n",
    "import os\n",
    "import pandas as pd\n",
    "import numpy as np\n",
    "import xarray as xr\n",
    "\n",
    "from Bio import SeqIO\n",
    "\n",
    "import torch\n",
    "import torch.nn as nn\n",
    "import torch.nn.functional as F\n",
    "import torch.optim as optim\n",
    "from torch.optim.lr_scheduler import _LRScheduler\n",
    "import torch.utils.data as data\n",
    "\n",
    "import pickle\n",
    "import random"
   ]
  },
  {
   "cell_type": "code",
   "execution_count": 7,
   "id": "4af0d1c9",
   "metadata": {},
   "outputs": [],
   "source": [
    "# I tried several data sets but in the end chose to use only the two mouse genomes pulled in below.\n",
    "# fasta_path = './Danio_rerio.GRCz11.dna.chromosome.10.extrasmall.fa'\n",
    "\n",
    "# fasta_sequences = SeqIO.parse(open(fasta_path),'fasta')\n",
    "# fasta_path = './Danio_rerio.GRCz11.dna_sm.chromosome.22.fa'\n",
    "\n",
    "# fasta_sequences = SeqIO.parse(open(fasta_path),'fasta')"
   ]
  },
  {
   "cell_type": "code",
   "execution_count": 252,
   "id": "6f3c2905",
   "metadata": {},
   "outputs": [],
   "source": [
    "fasta_path = './data/Mus_musculus.GRCm39.dna.chromosome.19.large.fa'\n",
    "\n",
    "mm19_sequences = SeqIO.parse(open(fasta_path),'fasta')"
   ]
  },
  {
   "cell_type": "code",
   "execution_count": 253,
   "id": "82b0fea0",
   "metadata": {},
   "outputs": [],
   "source": [
    "fasta_path = './data/Mus_musculus.GRCm39.dna.chromosome.17.fa'\n",
    "\n",
    "mm17_sequences = SeqIO.parse(open(fasta_path),'fasta')"
   ]
  },
  {
   "cell_type": "code",
   "execution_count": 250,
   "id": "d8c725a7",
   "metadata": {},
   "outputs": [],
   "source": [
    "sequences = {}"
   ]
  },
  {
   "cell_type": "code",
   "execution_count": 254,
   "id": "1385c189",
   "metadata": {},
   "outputs": [],
   "source": [
    "for f in mm17_sequences:\n",
    "    name, sequence = f.id, str(f.seq)\n",
    "    sequences['mm_17'] = sequence\n",
    "for f in mm19_sequences:\n",
    "    name, sequence = f.id, str(f.seq)\n",
    "    sequences['mm_19'] = sequence"
   ]
  },
  {
   "cell_type": "code",
   "execution_count": 255,
   "id": "041c9360",
   "metadata": {},
   "outputs": [
    {
     "data": {
      "text/plain": [
       "dict_keys(['mm_17', 'mm_19'])"
      ]
     },
     "execution_count": 255,
     "metadata": {},
     "output_type": "execute_result"
    }
   ],
   "source": [
    "sequences.keys()"
   ]
  },
  {
   "cell_type": "code",
   "execution_count": 117,
   "id": "2b2d7aaf",
   "metadata": {},
   "outputs": [
    {
     "data": {
      "text/plain": [
       "<function TextIOWrapper.close()>"
      ]
     },
     "execution_count": 117,
     "metadata": {},
     "output_type": "execute_result"
    }
   ],
   "source": [
    "ltr_finder_dir = os.system(\"cd ./LTR_finder/source\")\n",
    "path = './LTR_Finder/source/ltr_finder'\n",
    "fasta_path = './data/Mus_musculus.GRCm39.dna.chromosome.17.fa'\n",
    "f = open(\"mus_musculus_17.txt\", \"w\")\n",
    "subprocess.run([path, fasta_path, '> file.txt'], stdout=f)\n",
    "f.close"
   ]
  },
  {
   "cell_type": "code",
   "execution_count": 29,
   "id": "26df1754",
   "metadata": {},
   "outputs": [
    {
     "data": {
      "text/plain": [
       "<function TextIOWrapper.close()>"
      ]
     },
     "execution_count": 29,
     "metadata": {},
     "output_type": "execute_result"
    }
   ],
   "source": [
    "ltr_finder_dir = os.system(\"cd ./LTR_finder/source\")\n",
    "path = './LTR_Finder/source/ltr_finder'\n",
    "fasta_path = './data/Mus_musculus.GRCm39.dna.chromosome.19.large.fa'\n",
    "f = open(\"mus_musculus_19_large.txt\", \"w\")\n",
    "subprocess.run([path, fasta_path, '> file.txt'], stdout=f)\n",
    "f.close"
   ]
  },
  {
   "cell_type": "code",
   "execution_count": 256,
   "id": "7baeed71",
   "metadata": {},
   "outputs": [],
   "source": [
    "# reads a line from the ltr_finder output. Returns start/end position of TE\n",
    "def parse_ltr_loc(line):\n",
    "    first_num_start = 11\n",
    "    first_num_end = line.find(' ', first_num_start, -1)\n",
    "    second_num_start = first_num_end + 3\n",
    "    second_num_end = line.find(' ', second_num_start, -1)\n",
    "\n",
    "    ltr_start_loc = int(line[first_num_start:first_num_end])\n",
    "    ltr_end_loc = int(line[second_num_start:second_num_end])\n",
    "    \n",
    "    return (ltr_start_loc, ltr_end_loc)"
   ]
  },
  {
   "cell_type": "code",
   "execution_count": 199,
   "id": "d7d65797",
   "metadata": {},
   "outputs": [],
   "source": [
    "# Removes duplicates from list of detected ltr positions\n",
    "def clear_dups(ltr_locations):\n",
    "    starts = []\n",
    "    locs = []\n",
    "    for pair in ltr_locations:\n",
    "        if pair[0] not in starts:\n",
    "            starts.append(pair[0])\n",
    "            locs.append(pair)\n",
    "\n",
    "    return locs"
   ]
  },
  {
   "cell_type": "code",
   "execution_count": null,
   "id": "4c2d2c50",
   "metadata": {},
   "outputs": [],
   "source": [
    "ltrs = {}"
   ]
  },
  {
   "cell_type": "code",
   "execution_count": 257,
   "id": "a372d343",
   "metadata": {},
   "outputs": [],
   "source": [
    "# Parse the LTR_Finder outputs to get a list of LTR start/end positions\n",
    "# Importnat: Keys represent the sequence the TEs belong to\n",
    "with open('data/mus_musculus_19_large.txt', 'r') as f:\n",
    "    lines = f.readlines()\n",
    "    local = []\n",
    "    for i, line in enumerate(lines):\n",
    "        if 'Location : ' in line:\n",
    "            local.append(parse_ltr_loc(line))\n",
    "    ltrs['mm_19'] = clear_dups(local)\n",
    "\n",
    "with open('data/mus_musculus_17.txt', 'r') as f:\n",
    "    lines = f.readlines()\n",
    "    for i, line in enumerate(lines):\n",
    "        if 'Location : ' in line:\n",
    "            local.append(parse_ltr_loc(line))\n",
    "    ltrs['mm_17'] = clear_dups(local)"
   ]
  },
  {
   "cell_type": "code",
   "execution_count": 137,
   "id": "441dd24a",
   "metadata": {},
   "outputs": [],
   "source": [
    "np_loc = np.asarray(locs)"
   ]
  },
  {
   "cell_type": "code",
   "execution_count": 268,
   "id": "cdc36abb",
   "metadata": {},
   "outputs": [
    {
     "name": "stdout",
     "output_type": "stream",
     "text": [
      "30\n",
      "19673\n",
      "1515\n",
      "18158\n",
      "6532.866666666667\n",
      "5401.0\n"
     ]
    }
   ],
   "source": [
    "# Some stats on the TEs found (The current output might not represent the data actually used in the paper)\n",
    "maxl = np.max([l[1] - l[0] for l in np_loc])\n",
    "minl = np.min([l[1] - l[0] for l in np_loc])\n",
    "avgl = np.mean([l[1] - l[0] for l in np_loc])\n",
    "medl = np.median([l[1] - l[0] for l in np_loc])\n",
    "print(len(locs))\n",
    "print(maxl)\n",
    "print(minl)\n",
    "print(maxl - minl)\n",
    "print(avgl)\n",
    "print(medl)"
   ]
  },
  {
   "cell_type": "code",
   "execution_count": 201,
   "id": "c538ec59",
   "metadata": {},
   "outputs": [
    {
     "data": {
      "text/plain": [
       "{'mm_19': [(33297, 38704),\n",
       "  (47802, 53318),\n",
       "  (149758, 153662),\n",
       "  (161390, 167784),\n",
       "  (223723, 228816),\n",
       "  (1061401, 1066389),\n",
       "  (1639290, 1658963),\n",
       "  (2063477, 2078101),\n",
       "  (2403074, 2419209),\n",
       "  (2576470, 2578356),\n",
       "  (2909568, 2916137),\n",
       "  (3591011, 3594175),\n",
       "  (3962553, 3981691),\n",
       "  (4990900, 4997335),\n",
       "  (5532154, 5543638),\n",
       "  (5654710, 5657524),\n",
       "  (5673222, 5678617),\n",
       "  (6210472, 6214224),\n",
       "  (7682640, 7689211),\n",
       "  (8664442, 8671502),\n",
       "  (8944706, 8946601),\n",
       "  (9801152, 9809135),\n",
       "  (10201908, 10208303),\n",
       "  (10358534, 10360049),\n",
       "  (10514781, 10520176),\n",
       "  (10700264, 10702149),\n",
       "  (11372458, 11374892),\n",
       "  (12527384, 12529260),\n",
       "  (13612985, 13621711),\n",
       "  (13892767, 13894647)],\n",
       " 'mm_17': [(33297, 38704),\n",
       "  (47802, 53318),\n",
       "  (149758, 153662),\n",
       "  (161390, 167784),\n",
       "  (223723, 228816),\n",
       "  (1061401, 1066389),\n",
       "  (1639290, 1658963),\n",
       "  (2063477, 2078101),\n",
       "  (2403074, 2419209),\n",
       "  (2576470, 2578356),\n",
       "  (2909568, 2916137),\n",
       "  (3591011, 3594175),\n",
       "  (3962553, 3981691),\n",
       "  (4990900, 4997335),\n",
       "  (5532154, 5543638),\n",
       "  (5654710, 5657524),\n",
       "  (5673222, 5678617),\n",
       "  (6210472, 6214224),\n",
       "  (7682640, 7689211),\n",
       "  (8664442, 8671502),\n",
       "  (8944706, 8946601),\n",
       "  (9801152, 9809135),\n",
       "  (10201908, 10208303),\n",
       "  (10358534, 10360049),\n",
       "  (10514781, 10520176),\n",
       "  (10700264, 10702149),\n",
       "  (11372458, 11374892),\n",
       "  (12527384, 12529260),\n",
       "  (13612985, 13621711),\n",
       "  (13892767, 13894647),\n",
       "  (672105, 674163),\n",
       "  (2143331, 2146018),\n",
       "  (2770488, 2776202),\n",
       "  (2770503, 2775994),\n",
       "  (3096945, 3099031),\n",
       "  (3342098, 3347265),\n",
       "  (4135143, 4140718),\n",
       "  (5155984, 5159408),\n",
       "  (5381643, 5389069),\n",
       "  (5497037, 5503431),\n",
       "  (6082748, 6084628),\n",
       "  (6358179, 6360852),\n",
       "  (6753366, 6755251),\n",
       "  (6896147, 6900489),\n",
       "  (6946468, 6953576),\n",
       "  (8263698, 8270857),\n",
       "  (9233984, 9242249),\n",
       "  (9715689, 9725004),\n",
       "  (10051185, 10065004),\n",
       "  (10318958, 10326111),\n",
       "  (10329175, 10334675),\n",
       "  (10408199, 10415304),\n",
       "  (10575751, 10588297),\n",
       "  (10580644, 10586060),\n",
       "  (10665182, 10667870),\n",
       "  (10954392, 10956479),\n",
       "  (11240124, 11245347),\n",
       "  (11240213, 11245251),\n",
       "  (11261614, 11267110),\n",
       "  (11346986, 11348868),\n",
       "  (13457469, 13459357),\n",
       "  (14443323, 14449720),\n",
       "  (14640013, 14646027),\n",
       "  (14671603, 14676410),\n",
       "  (15120873, 15126553),\n",
       "  (15548196, 15556851),\n",
       "  (15722905, 15738856),\n",
       "  (15725435, 15733792),\n",
       "  (16064779, 16069776),\n",
       "  (16098730, 16106138),\n",
       "  (16161014, 16165693),\n",
       "  (16489562, 16491941),\n",
       "  (16996217, 16998103),\n",
       "  (17869369, 17875407),\n",
       "  (18145696, 18151209),\n",
       "  (18151547, 18157029),\n",
       "  (19221672, 19224752),\n",
       "  (19275924, 19277793),\n",
       "  (19396350, 19403790),\n",
       "  (19653457, 19660556),\n",
       "  (19668070, 19669952),\n",
       "  (19751077, 19757011),\n",
       "  (20661245, 20668333),\n",
       "  (20670353, 20676770),\n",
       "  (20687206, 20694723),\n",
       "  (20851954, 20858284),\n",
       "  (20877805, 20882177),\n",
       "  (21074287, 21077608),\n",
       "  (21625678, 21627564),\n",
       "  (21777270, 21779109),\n",
       "  (22292622, 22296994),\n",
       "  (23302178, 23314704),\n",
       "  (23374825, 23393222),\n",
       "  (23966222, 23968103),\n",
       "  (24447519, 24453987),\n",
       "  (24454199, 24456286),\n",
       "  (24682412, 24688148),\n",
       "  (24861523, 24863399),\n",
       "  (25521030, 25534146)],\n",
       " 'dr_22': [(33297, 38704),\n",
       "  (47802, 53318),\n",
       "  (149758, 153662),\n",
       "  (161390, 167784),\n",
       "  (223723, 228816),\n",
       "  (1061401, 1066389),\n",
       "  (1639290, 1658963),\n",
       "  (2063477, 2078101),\n",
       "  (2403074, 2419209),\n",
       "  (2576470, 2578356),\n",
       "  (2909568, 2916137),\n",
       "  (3591011, 3594175),\n",
       "  (3962553, 3981691),\n",
       "  (4990900, 4997335),\n",
       "  (5532154, 5543638),\n",
       "  (5654710, 5657524),\n",
       "  (5673222, 5678617),\n",
       "  (6210472, 6214224),\n",
       "  (7682640, 7689211),\n",
       "  (8664442, 8671502),\n",
       "  (8944706, 8946601),\n",
       "  (9801152, 9809135),\n",
       "  (10201908, 10208303),\n",
       "  (10358534, 10360049),\n",
       "  (10514781, 10520176),\n",
       "  (10700264, 10702149),\n",
       "  (11372458, 11374892),\n",
       "  (12527384, 12529260),\n",
       "  (13612985, 13621711),\n",
       "  (13892767, 13894647),\n",
       "  (672105, 674163),\n",
       "  (2143331, 2146018),\n",
       "  (2770488, 2776202),\n",
       "  (2770503, 2775994),\n",
       "  (3096945, 3099031),\n",
       "  (3342098, 3347265),\n",
       "  (4135143, 4140718),\n",
       "  (5155984, 5159408),\n",
       "  (5381643, 5389069),\n",
       "  (5497037, 5503431),\n",
       "  (6082748, 6084628),\n",
       "  (6358179, 6360852),\n",
       "  (6753366, 6755251),\n",
       "  (6896147, 6900489),\n",
       "  (6946468, 6953576),\n",
       "  (8263698, 8270857),\n",
       "  (9233984, 9242249),\n",
       "  (9715689, 9725004),\n",
       "  (10051185, 10065004),\n",
       "  (10318958, 10326111),\n",
       "  (10329175, 10334675),\n",
       "  (10408199, 10415304),\n",
       "  (10575751, 10588297),\n",
       "  (10580644, 10586060),\n",
       "  (10665182, 10667870),\n",
       "  (10954392, 10956479),\n",
       "  (11240124, 11245347),\n",
       "  (11240213, 11245251),\n",
       "  (11261614, 11267110),\n",
       "  (11346986, 11348868),\n",
       "  (13457469, 13459357),\n",
       "  (14443323, 14449720),\n",
       "  (14640013, 14646027),\n",
       "  (14671603, 14676410),\n",
       "  (15120873, 15126553),\n",
       "  (15548196, 15556851),\n",
       "  (15722905, 15738856),\n",
       "  (15725435, 15733792),\n",
       "  (16064779, 16069776),\n",
       "  (16098730, 16106138),\n",
       "  (16161014, 16165693),\n",
       "  (16489562, 16491941),\n",
       "  (16996217, 16998103),\n",
       "  (17869369, 17875407),\n",
       "  (18145696, 18151209),\n",
       "  (18151547, 18157029),\n",
       "  (19221672, 19224752),\n",
       "  (19275924, 19277793),\n",
       "  (19396350, 19403790),\n",
       "  (19653457, 19660556),\n",
       "  (19668070, 19669952),\n",
       "  (19751077, 19757011),\n",
       "  (20661245, 20668333),\n",
       "  (20670353, 20676770),\n",
       "  (20687206, 20694723),\n",
       "  (20851954, 20858284),\n",
       "  (20877805, 20882177),\n",
       "  (21074287, 21077608),\n",
       "  (21625678, 21627564),\n",
       "  (21777270, 21779109),\n",
       "  (22292622, 22296994),\n",
       "  (23302178, 23314704),\n",
       "  (23374825, 23393222),\n",
       "  (23966222, 23968103),\n",
       "  (24447519, 24453987),\n",
       "  (24454199, 24456286),\n",
       "  (24682412, 24688148),\n",
       "  (24861523, 24863399),\n",
       "  (25521030, 25534146),\n",
       "  (9460, 20406),\n",
       "  (27619, 43104),\n",
       "  (622777, 631277),\n",
       "  (847536, 851513),\n",
       "  (847660, 851544),\n",
       "  (914314, 918063),\n",
       "  (915210, 918063),\n",
       "  (1532030, 1535481),\n",
       "  (1744137, 1751846),\n",
       "  (2130974, 2138142),\n",
       "  (2163457, 2173151),\n",
       "  (2307407, 2317322),\n",
       "  (2708328, 2709580),\n",
       "  (3299588, 3303084),\n",
       "  (3393854, 3396660),\n",
       "  (3932693, 3935578),\n",
       "  (5011114, 5014019),\n",
       "  (5219924, 5227118),\n",
       "  (5996473, 6004643),\n",
       "  (6297388, 6318277),\n",
       "  (6531252, 6536593),\n",
       "  (6533096, 6536593),\n",
       "  (6537425, 6541101),\n",
       "  (7655219, 7660934),\n",
       "  (7780330, 7787953),\n",
       "  (7845388, 7850468),\n",
       "  (8200849, 8210825),\n",
       "  (8801477, 8812762),\n",
       "  (9246437, 9251608),\n",
       "  (9651962, 9660776),\n",
       "  (11869744, 11872977),\n",
       "  (12562218, 12580548),\n",
       "  (12562222, 12580488),\n",
       "  (12562224, 12580500),\n",
       "  (12562226, 12580500)]}"
      ]
     },
     "execution_count": 201,
     "metadata": {},
     "output_type": "execute_result"
    }
   ],
   "source": [
    "ltrs"
   ]
  },
  {
   "cell_type": "code",
   "execution_count": 130,
   "id": "75e3c744",
   "metadata": {},
   "outputs": [],
   "source": [
    "# Set the size of sequence chunks (for inputs and target)\n",
    "# The size should be bigger than the average TE length.\n",
    "size = 15000"
   ]
  },
  {
   "cell_type": "code",
   "execution_count": 131,
   "id": "7d827b36",
   "metadata": {},
   "outputs": [],
   "source": [
    "# Creates one-hot encoding input given a sequence and chunk size.\n",
    "def get_input_channels(sequence, size):\n",
    "  a = np.zeros(size)\n",
    "  g = np.zeros(size)\n",
    "  c = np.zeros(size)\n",
    "  t = np.zeros(size)\n",
    "  for i, chr in enumerate(sequence):\n",
    "    if chr == 'A':\n",
    "      a[i] = 1\n",
    "    if chr == 'G':\n",
    "      g[i] = 1\n",
    "    if chr == 'C':\n",
    "      c[i] = 1\n",
    "    if chr == 'T':\n",
    "      t[i] = 1\n",
    "\n",
    "  return [a, g, c, t]    "
   ]
  },
  {
   "cell_type": "code",
   "execution_count": 258,
   "id": "ff031156",
   "metadata": {},
   "outputs": [],
   "source": [
    "x = []\n",
    "masks = []"
   ]
  },
  {
   "cell_type": "code",
   "execution_count": 259,
   "id": "73d9cd40",
   "metadata": {},
   "outputs": [],
   "source": [
    "for i in range(4): #force a larger sample size. Not ideal but okay for now.\n",
    "    \n",
    "    # For each sequence collected above\n",
    "    for chromosome in sequences.keys():\n",
    "        locs = ltrs[chromosome]\n",
    "        seq = sequences[chromosome]\n",
    "        \n",
    "        # For each LTR location within this chromosome, create an input and matching target\n",
    "        for loc in locs:\n",
    "            ltr_length = loc[1] - loc[0] + 1\n",
    "            remaining_sequence = size - ltr_length\n",
    "            \n",
    "            # If LTR length is larger than the chunk size, choose the starting location randomly\n",
    "            if remaining_sequence < 1:\n",
    "                chunk = int((loc[1] - loc[0]) * 0.1)\n",
    "                padding = random.randrange(-chunk, chunk)\n",
    "                start = loc[0] + chunk\n",
    "                end = start + size\n",
    "\n",
    "                inpt = get_input_channels(seq[start:end], size)\n",
    "                mask = np.ones(size)\n",
    "            else: # Otherwise, choose a random start and end position that will contain the current LTR\n",
    "                padding_left = random.randrange(0, remaining_sequence)\n",
    "                padding_right = remaining_sequence - padding_left\n",
    "\n",
    "                start = loc[0] - padding_left\n",
    "                end = loc[1] + padding_right + 1\n",
    "\n",
    "                inpt = get_input_channels(seq[start:end], size)\n",
    "\n",
    "                mask = np.zeros(size)\n",
    "                mask[padding_left+1:padding_left+ltr_length+1] = 1\n",
    "\n",
    "            x.append(inpt)\n",
    "            masks.append(mask)"
   ]
  },
  {
   "cell_type": "code",
   "execution_count": 261,
   "id": "78daacc6",
   "metadata": {},
   "outputs": [],
   "source": [
    "data = {'x': x, 'masks': masks}"
   ]
  },
  {
   "cell_type": "code",
   "execution_count": 237,
   "id": "fa0fb179",
   "metadata": {},
   "outputs": [],
   "source": [
    "# More tests\n",
    "x = np.asarray(x)\n",
    "masks = np.asarray(masks)"
   ]
  },
  {
   "cell_type": "code",
   "execution_count": 238,
   "id": "1743614b",
   "metadata": {},
   "outputs": [
    {
     "data": {
      "text/plain": [
       "0.4035906210392902"
      ]
     },
     "execution_count": 238,
     "metadata": {},
     "output_type": "execute_result"
    }
   ],
   "source": [
    "# What percentage of data is actually made of TEs. Should be around half.\n",
    "np.sum(masks) / (masks.shape[0]*size)"
   ]
  },
  {
   "cell_type": "code",
   "execution_count": null,
   "id": "fb26bf5b",
   "metadata": {},
   "outputs": [],
   "source": [
    "file = open('./data/te_data.pkl', 'wb')\n",
    "\n",
    "pickle.dump(data, file)\n",
    "\n",
    "file.close()"
   ]
  }
 ],
 "metadata": {
  "kernelspec": {
   "display_name": "Python 3 (ipykernel)",
   "language": "python",
   "name": "python3"
  },
  "language_info": {
   "codemirror_mode": {
    "name": "ipython",
    "version": 3
   },
   "file_extension": ".py",
   "mimetype": "text/x-python",
   "name": "python",
   "nbconvert_exporter": "python",
   "pygments_lexer": "ipython3",
   "version": "3.9.13"
  }
 },
 "nbformat": 4,
 "nbformat_minor": 5
}
