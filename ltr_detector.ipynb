{
 "cells": [
  {
   "cell_type": "code",
   "execution_count": 1,
   "id": "MDGwMQ52Z3Y-",
   "metadata": {
    "colab": {
     "base_uri": "https://localhost:8080/"
    },
    "id": "MDGwMQ52Z3Y-",
    "outputId": "7a96cab4-225a-4607-a513-9c4b19f5ef21"
   },
   "outputs": [
    {
     "name": "stdout",
     "output_type": "stream",
     "text": [
      "Looking in indexes: https://pypi.org/simple, https://us-python.pkg.dev/colab-wheels/public/simple/\n",
      "Collecting torchmetrics\n",
      "  Downloading torchmetrics-0.11.0-py3-none-any.whl (512 kB)\n",
      "\u001b[K     |████████████████████████████████| 512 kB 21.2 MB/s \n",
      "\u001b[?25hRequirement already satisfied: torch>=1.8.1 in /usr/local/lib/python3.8/dist-packages (from torchmetrics) (1.13.0+cu116)\n",
      "Requirement already satisfied: typing-extensions in /usr/local/lib/python3.8/dist-packages (from torchmetrics) (4.4.0)\n",
      "Requirement already satisfied: packaging in /usr/local/lib/python3.8/dist-packages (from torchmetrics) (21.3)\n",
      "Requirement already satisfied: numpy>=1.17.2 in /usr/local/lib/python3.8/dist-packages (from torchmetrics) (1.21.6)\n",
      "Requirement already satisfied: pyparsing!=3.0.5,>=2.0.2 in /usr/local/lib/python3.8/dist-packages (from packaging->torchmetrics) (3.0.9)\n",
      "Installing collected packages: torchmetrics\n",
      "Successfully installed torchmetrics-0.11.0\n"
     ]
    }
   ],
   "source": [
    "! pip install torchmetrics"
   ]
  },
  {
   "cell_type": "code",
   "execution_count": 3,
   "id": "1f6a101c-8e60-4296-ab84-b9f88c16d6cb",
   "metadata": {
    "id": "1f6a101c-8e60-4296-ab84-b9f88c16d6cb"
   },
   "outputs": [],
   "source": [
    "import numpy as np\n",
    "\n",
    "import torch\n",
    "import torch.nn as nn\n",
    "import torch.optim as optim\n",
    "from torch.optim.lr_scheduler import _LRScheduler\n",
    "import torch.utils.data as pydata\n",
    "import torchmetrics as metrics\n",
    "\n",
    "from matplotlib.pylab import plt\n",
    "import sklearn.metrics as sk\n",
    "\n",
    "import pickle"
   ]
  },
  {
   "cell_type": "code",
   "execution_count": 4,
   "id": "eFKeJkxd02QK",
   "metadata": {
    "colab": {
     "base_uri": "https://localhost:8080/"
    },
    "id": "eFKeJkxd02QK",
    "outputId": "f87e5d35-f19d-4f33-ad72-f028dc0e4cd3"
   },
   "outputs": [
    {
     "name": "stdout",
     "output_type": "stream",
     "text": [
      "Mounted at /content/drive\n"
     ]
    }
   ],
   "source": [
    "# from google.colab import drive\n",
    "# drive.mount('/content/drive')"
   ]
  },
  {
   "cell_type": "code",
   "execution_count": 5,
   "id": "9c7dd19b-6be3-4433-ac55-16bee1ef3b04",
   "metadata": {
    "id": "9c7dd19b-6be3-4433-ac55-16bee1ef3b04"
   },
   "outputs": [],
   "source": [
    "data_file = open(f'data/te_data.pkl', 'rb')\n",
    "data = pickle.load(data_file)\n",
    "data_file.close()"
   ]
  },
  {
   "cell_type": "code",
   "execution_count": 6,
   "id": "47225402-8764-479c-abe5-b8570282ea56",
   "metadata": {
    "colab": {
     "base_uri": "https://localhost:8080/"
    },
    "id": "47225402-8764-479c-abe5-b8570282ea56",
    "outputId": "8c108e3a-6425-49d0-f552-ed69737cda24"
   },
   "outputs": [
    {
     "name": "stderr",
     "output_type": "stream",
     "text": [
      "<ipython-input-6-0eae03b126b2>:1: UserWarning: Creating a tensor from a list of numpy.ndarrays is extremely slow. Please consider converting the list to a single numpy.ndarray with numpy.array() before converting to a tensor. (Triggered internally at ../torch/csrc/utils/tensor_new.cpp:230.)\n",
      "  d = torch.tensor(data['x']).float()\n"
     ]
    }
   ],
   "source": [
    "d = torch.tensor(data['x']).float()\n",
    "target = torch.tensor(data['masks']).float()\n",
    "d = d.reshape(d.shape[0], 1, d.shape[1], d.shape[2])"
   ]
  },
  {
   "cell_type": "code",
   "execution_count": 7,
   "id": "d15df584-68d7-47c6-a5f9-c548f50a76c0",
   "metadata": {
    "id": "d15df584-68d7-47c6-a5f9-c548f50a76c0"
   },
   "outputs": [],
   "source": [
    "BATCH_SIZE = 5\n",
    "\n",
    "dataset = pydata.TensorDataset(d, target)\n",
    "train_data, valid_data = pydata.random_split(dataset, [0.7, 0.3])\n",
    "train_dl = pydata.DataLoader(train_data, batch_size=BATCH_SIZE, shuffle=True)\n",
    "valid_dl = pydata.DataLoader(valid_data, batch_size=BATCH_SIZE, shuffle=True)"
   ]
  },
  {
   "cell_type": "code",
   "execution_count": null,
   "id": "4a6dc1f5-e03b-47ee-ac16-9d5eb372dcb4",
   "metadata": {
    "id": "4a6dc1f5-e03b-47ee-ac16-9d5eb372dcb4"
   },
   "outputs": [],
   "source": [
    "# Early attempt at the model - smaller channel sizes, fewer layers and skipped connection.\n",
    "\n",
    "# class TEDetector(nn.Module):\n",
    "#     def __init__(self):\n",
    "#         super().__init__()\n",
    "\n",
    "#         self.l1 = self.contract_block(1, 32, 2, 0)\n",
    "#         self.l2 = self.contract_block(32, 64, 3, 1)\n",
    "\n",
    "#         self.l3 = self.expand_block(64, 32, (1, 3), (0, 1))\n",
    "\n",
    "#         # Need very specific paremeters for last layer\n",
    "#         self.ex_conv1 = torch.nn.Conv2d(32, 1, (1, 3), stride=1, padding=(0, 1))\n",
    "#         self.ex_bn1 = torch.nn.BatchNorm2d(1)\n",
    "#         self.ex_conv2 = torch.nn.Conv2d(1, 1, (1, 3), stride=(2, 1), padding=(0, 1))\n",
    "#         self.ex_bn2 = torch.nn.BatchNorm2d(1)\n",
    "#         self.ex_contrans = torch.nn.ConvTranspose2d(1, 1, kernel_size=(1, 3), stride=(1, 2), padding=(0, 1), output_padding=(0, 1))\n",
    "\n",
    "#     def forward(self, x):\n",
    "#         conv1 = self.l1(x)\n",
    "#         conv2 = self.l2(conv1)\n",
    "#         upconv1 = self.l3(conv2)\n",
    "#         # x = upconv1 + conv2\n",
    "#         x = self.ex_conv1(upconv1)\n",
    "#         x = nn.functional.relu(self.ex_bn1(x))\n",
    "#         x = self.ex_conv2(x)\n",
    "#         x = nn.functional.relu(self.ex_bn2(x))\n",
    "#         x = self.ex_contrans(x)\n",
    "#         return nn.functional.relu(x) # relu or no relu??\n",
    "\n",
    "#     def contract_block(self, in_channels, out_channels, kernel_size, padding):\n",
    "\n",
    "#         contract = nn.Sequential(\n",
    "#             torch.nn.Conv2d(in_channels, out_channels, kernel_size=kernel_size, stride=1, padding=padding),\n",
    "#             torch.nn.BatchNorm2d(out_channels),\n",
    "#             torch.nn.ReLU(),\n",
    "#             torch.nn.Conv2d(out_channels, out_channels, kernel_size=kernel_size, stride=1, padding=padding),\n",
    "#             torch.nn.BatchNorm2d(out_channels),\n",
    "#             torch.nn.ReLU(),\n",
    "#             torch.nn.MaxPool2d(kernel_size=3, stride=2, padding=1)\n",
    "#                                  )\n",
    "\n",
    "#         return contract\n",
    "\n",
    "#     def expand_block(self, in_channels, out_channels, kernel_size, padding, output_stride=2, output_padding=1):\n",
    "\n",
    "#         expand = nn.Sequential(\n",
    "#             torch.nn.Conv2d(in_channels, out_channels, kernel_size, stride=1, padding=padding),\n",
    "#             torch.nn.BatchNorm2d(out_channels),\n",
    "#             torch.nn.ReLU(),\n",
    "#             torch.nn.Conv2d(out_channels, out_channels, kernel_size, stride=1, padding=padding),\n",
    "#             torch.nn.BatchNorm2d(out_channels),\n",
    "#             torch.nn.ReLU(),\n",
    "#             torch.nn.ConvTranspose2d(out_channels, out_channels, kernel_size=3, stride=output_stride, padding=1, output_padding=output_padding) \n",
    "#                                 )\n",
    "#         return expand"
   ]
  },
  {
   "cell_type": "code",
   "execution_count": 24,
   "id": "eooEpJa9mkwO",
   "metadata": {
    "id": "eooEpJa9mkwO"
   },
   "outputs": [],
   "source": [
    "class LTRDetector(nn.Module):\n",
    "    def __init__(self):\n",
    "        super().__init__()\n",
    "\n",
    "        self.c1 = self.contract_block(1, 24, 3, (2, 1))\n",
    "        self.c2 = self.contract_block(24, 48, 3, 1)\n",
    "        self.c3 = self.contract_block(48, 96, 3, 1)\n",
    "\n",
    "        self.ex1 = self.expand_block(96, 48, 3, 1)\n",
    "        self.ex2 = self.expand_block(48*2, 24, 3, 1)\n",
    "        self.ex3 = self.expand_block(24*2, 1, 3, (2, 1), 2, (0, 1))\n",
    "\n",
    "        self.fl = torch.nn.MaxPool2d(kernel_size=(15, 1), stride=1, padding=0)\n",
    "\n",
    "    def forward(self, x):\n",
    "        conv1 = self.c1(x)\n",
    "        conv2 = self.c2(conv1)\n",
    "        conv3 = self.c3(conv2)\n",
    "\n",
    "        upconv1 = self.ex1(conv3)\n",
    "        upconv2 = self.ex2(torch.cat([upconv1, conv2], 1))\n",
    "        upconv3 = self.ex3(torch.cat([upconv2, conv1], 1))\n",
    "\n",
    "        out = self.fl(upconv3)\n",
    "        return out\n",
    "\n",
    "    def contract_block(self, in_channels, out_channels, kernel_size, padding):\n",
    "\n",
    "        contract = nn.Sequential(\n",
    "            torch.nn.Conv2d(in_channels, out_channels, kernel_size=kernel_size, stride=1, padding=padding),\n",
    "            torch.nn.BatchNorm2d(out_channels),\n",
    "            torch.nn.ReLU(),\n",
    "            torch.nn.Conv2d(out_channels, out_channels, kernel_size=kernel_size, stride=1, padding=padding),\n",
    "            torch.nn.BatchNorm2d(out_channels),\n",
    "            torch.nn.ReLU(),\n",
    "            torch.nn.MaxPool2d(kernel_size=3, stride=2, padding=1)\n",
    "                                 )\n",
    "\n",
    "        return contract\n",
    "\n",
    "    def expand_block(self, in_channels, out_channels, kernel_size, padding, output_stride=2, output_padding=1):\n",
    "\n",
    "        expand = nn.Sequential(\n",
    "            torch.nn.Conv2d(in_channels, out_channels, kernel_size, stride=1, padding=padding),\n",
    "            torch.nn.BatchNorm2d(out_channels),\n",
    "            torch.nn.ReLU(),\n",
    "            torch.nn.Conv2d(out_channels, out_channels, kernel_size, stride=1, padding=padding),\n",
    "            torch.nn.BatchNorm2d(out_channels),\n",
    "            torch.nn.ReLU(),\n",
    "            torch.nn.ConvTranspose2d(out_channels, out_channels, kernel_size=3, stride=output_stride, padding=1, output_padding=output_padding) \n",
    "                                )\n",
    "        return expand"
   ]
  },
  {
   "cell_type": "code",
   "execution_count": 25,
   "id": "xgOaoSWkzbMV",
   "metadata": {
    "colab": {
     "base_uri": "https://localhost:8080/"
    },
    "id": "xgOaoSWkzbMV",
    "outputId": "5fb8c3ad-55b8-43b0-b438-5c092d0bdefd"
   },
   "outputs": [
    {
     "data": {
      "text/plain": [
       "TEDetector(\n",
       "  (c1): Sequential(\n",
       "    (0): Conv2d(1, 24, kernel_size=(3, 3), stride=(1, 1), padding=(2, 1))\n",
       "    (1): BatchNorm2d(24, eps=1e-05, momentum=0.1, affine=True, track_running_stats=True)\n",
       "    (2): ReLU()\n",
       "    (3): Conv2d(24, 24, kernel_size=(3, 3), stride=(1, 1), padding=(2, 1))\n",
       "    (4): BatchNorm2d(24, eps=1e-05, momentum=0.1, affine=True, track_running_stats=True)\n",
       "    (5): ReLU()\n",
       "    (6): MaxPool2d(kernel_size=3, stride=2, padding=1, dilation=1, ceil_mode=False)\n",
       "  )\n",
       "  (c2): Sequential(\n",
       "    (0): Conv2d(24, 48, kernel_size=(3, 3), stride=(1, 1), padding=(1, 1))\n",
       "    (1): BatchNorm2d(48, eps=1e-05, momentum=0.1, affine=True, track_running_stats=True)\n",
       "    (2): ReLU()\n",
       "    (3): Conv2d(48, 48, kernel_size=(3, 3), stride=(1, 1), padding=(1, 1))\n",
       "    (4): BatchNorm2d(48, eps=1e-05, momentum=0.1, affine=True, track_running_stats=True)\n",
       "    (5): ReLU()\n",
       "    (6): MaxPool2d(kernel_size=3, stride=2, padding=1, dilation=1, ceil_mode=False)\n",
       "  )\n",
       "  (c3): Sequential(\n",
       "    (0): Conv2d(48, 96, kernel_size=(3, 3), stride=(1, 1), padding=(1, 1))\n",
       "    (1): BatchNorm2d(96, eps=1e-05, momentum=0.1, affine=True, track_running_stats=True)\n",
       "    (2): ReLU()\n",
       "    (3): Conv2d(96, 96, kernel_size=(3, 3), stride=(1, 1), padding=(1, 1))\n",
       "    (4): BatchNorm2d(96, eps=1e-05, momentum=0.1, affine=True, track_running_stats=True)\n",
       "    (5): ReLU()\n",
       "    (6): MaxPool2d(kernel_size=3, stride=2, padding=1, dilation=1, ceil_mode=False)\n",
       "  )\n",
       "  (ex1): Sequential(\n",
       "    (0): Conv2d(96, 48, kernel_size=(3, 3), stride=(1, 1), padding=(1, 1))\n",
       "    (1): BatchNorm2d(48, eps=1e-05, momentum=0.1, affine=True, track_running_stats=True)\n",
       "    (2): ReLU()\n",
       "    (3): Conv2d(48, 48, kernel_size=(3, 3), stride=(1, 1), padding=(1, 1))\n",
       "    (4): BatchNorm2d(48, eps=1e-05, momentum=0.1, affine=True, track_running_stats=True)\n",
       "    (5): ReLU()\n",
       "    (6): ConvTranspose2d(48, 48, kernel_size=(3, 3), stride=(2, 2), padding=(1, 1), output_padding=(1, 1))\n",
       "  )\n",
       "  (ex2): Sequential(\n",
       "    (0): Conv2d(96, 24, kernel_size=(3, 3), stride=(1, 1), padding=(1, 1))\n",
       "    (1): BatchNorm2d(24, eps=1e-05, momentum=0.1, affine=True, track_running_stats=True)\n",
       "    (2): ReLU()\n",
       "    (3): Conv2d(24, 24, kernel_size=(3, 3), stride=(1, 1), padding=(1, 1))\n",
       "    (4): BatchNorm2d(24, eps=1e-05, momentum=0.1, affine=True, track_running_stats=True)\n",
       "    (5): ReLU()\n",
       "    (6): ConvTranspose2d(24, 24, kernel_size=(3, 3), stride=(2, 2), padding=(1, 1), output_padding=(1, 1))\n",
       "  )\n",
       "  (ex3): Sequential(\n",
       "    (0): Conv2d(48, 1, kernel_size=(3, 3), stride=(1, 1), padding=(2, 1))\n",
       "    (1): BatchNorm2d(1, eps=1e-05, momentum=0.1, affine=True, track_running_stats=True)\n",
       "    (2): ReLU()\n",
       "    (3): Conv2d(1, 1, kernel_size=(3, 3), stride=(1, 1), padding=(2, 1))\n",
       "    (4): BatchNorm2d(1, eps=1e-05, momentum=0.1, affine=True, track_running_stats=True)\n",
       "    (5): ReLU()\n",
       "    (6): ConvTranspose2d(1, 1, kernel_size=(3, 3), stride=(2, 2), padding=(1, 1), output_padding=(0, 1))\n",
       "  )\n",
       "  (fl): MaxPool2d(kernel_size=(15, 1), stride=1, padding=0, dilation=1, ceil_mode=False)\n",
       ")"
      ]
     },
     "execution_count": 25,
     "metadata": {},
     "output_type": "execute_result"
    }
   ],
   "source": [
    "detector = LTRDetector()\n",
    "detector.cuda()"
   ]
  },
  {
   "cell_type": "code",
   "execution_count": 10,
   "id": "2fbaec52-3656-443e-94e7-4b1b71f33a84",
   "metadata": {
    "colab": {
     "base_uri": "https://localhost:8080/"
    },
    "id": "2fbaec52-3656-443e-94e7-4b1b71f33a84",
    "outputId": "e6fa5ac1-ae54-4645-afd7-9b1e906c8a97"
   },
   "outputs": [
    {
     "data": {
      "text/plain": [
       "BinaryJaccardIndex()"
      ]
     },
     "execution_count": 10,
     "metadata": {},
     "output_type": "execute_result"
    }
   ],
   "source": [
    "# Metrics\n",
    "\n",
    "# Did not utilize accuracy in the end\n",
    "def calculate_accuracy(y_pred, target):\n",
    "    predicted = torch.round(y_pred)\n",
    "\n",
    "    correct = torch.sum(y_pred == target)\n",
    "\n",
    "    return (correct / (y_pred.shape[0]*y_pred.shape[1])).item()\n",
    "\n",
    "# Primary metric actually used\n",
    "iou_metric = metrics.JaccardIndex(task='binary')\n",
    "iou_metric.cuda()"
   ]
  },
  {
   "cell_type": "code",
   "execution_count": 26,
   "id": "6AW3VrHlxfpq",
   "metadata": {
    "id": "6AW3VrHlxfpq"
   },
   "outputs": [],
   "source": [
    "# Save for output, stats, and figures\n",
    "vexample = {}\n",
    "texample = {}\n",
    "val_loss = []\n",
    "train_loss = []\n",
    "val_iou = []\n",
    "train_iou = []"
   ]
  },
  {
   "cell_type": "code",
   "execution_count": 12,
   "id": "pGM8fRLlze-p",
   "metadata": {
    "id": "pGM8fRLlze-p"
   },
   "outputs": [],
   "source": [
    "def train(model, iterator, optimizer, criterion, save_batch=False):\n",
    "    epoch_loss = 0\n",
    "    epoch_iou = 0\n",
    "    epoch_sum = 0\n",
    "    epoch_acc = 0\n",
    "    \n",
    "    model.train()\n",
    "    \n",
    "    for (x, y) in iterator:\n",
    "        x = x.cuda()\n",
    "        y = y.cuda()\n",
    "        \n",
    "        optimizer.zero_grad()\n",
    "\n",
    "        y_pred = model(x)\n",
    "        y_pred = y_pred.reshape(y.shape[0], y.shape[1])\n",
    "\n",
    "        loss = criterion(y_pred, y)\n",
    "        iou_score = iou_metric(torch.round(y_pred), y)\n",
    "\n",
    "        loss.backward()\n",
    "\n",
    "        optimizer.step()\n",
    "\n",
    "        epoch_loss += loss.item()\n",
    "        epoch_iou += iou_score.item()\n",
    "        epoch_sum += (torch.sum(y_pred).item() / y_pred.shape[0])\n",
    "        epoch_acc += calculate_accuracy(y_pred, y)\n",
    "        if save_batch:\n",
    "          texample['prediction'] = torch.round(y_pred)\n",
    "          texample['y'] = y\n",
    "        \n",
    "    return epoch_loss / len(iterator), epoch_iou / len(iterator), epoch_acc / len(iterator), epoch_sum / len(iterator)"
   ]
  },
  {
   "cell_type": "code",
   "execution_count": 13,
   "id": "YM5R7ZrLvrDt",
   "metadata": {
    "id": "YM5R7ZrLvrDt"
   },
   "outputs": [],
   "source": [
    "def validate(model, iterator, criterion, save_batch=False):\n",
    "    epoch_loss = 0\n",
    "    epoch_iou = 0\n",
    "    epoch_sum = 0\n",
    "    epoch_acc = 0\n",
    "    \n",
    "    model.eval()\n",
    "\n",
    "    with torch.no_grad():\n",
    "       for (x, y) in iterator:\n",
    "          x = x.cuda()\n",
    "          y = y.cuda()\n",
    "          \n",
    "          y_pred = model(x)\n",
    "          y_pred = y_pred.reshape(y.shape[0], y.shape[1])\n",
    "\n",
    "          loss = criterion(y_pred, y)\n",
    "          iou_score = iou_metric(torch.round(y_pred), y)\n",
    "\n",
    "          epoch_loss += loss.item()\n",
    "          epoch_iou += iou_score.item()\n",
    "          epoch_sum += (torch.sum(y_pred).item() / y_pred.shape[0])\n",
    "          epoch_acc += calculate_accuracy(y_pred, y)\n",
    "          if save_batch:\n",
    "            vexample['prediction'] = torch.round(y_pred)\n",
    "            vexample['y'] = y\n",
    "        \n",
    "    return epoch_loss / len(iterator), epoch_iou / len(iterator), epoch_acc / len(iterator), epoch_sum / len(iterator)"
   ]
  },
  {
   "cell_type": "code",
   "execution_count": 27,
   "id": "p6e44jsKzh2u",
   "metadata": {
    "colab": {
     "base_uri": "https://localhost:8080/"
    },
    "id": "p6e44jsKzh2u",
    "outputId": "d810ec97-badd-42ab-d667-0162deafb901"
   },
   "outputs": [
    {
     "name": "stdout",
     "output_type": "stream",
     "text": [
      "Train(Epoch1): loss = 0.24337384676280088 | iou = 0.1293372110374374 | accuracy = 0.0 | sum = 5886.92461606378\n",
      "Validate(Epoch1): loss = 0.24670992887789203 | iou = 0.294582522684528 | accuracy = 0.0 | sum = 7475.755191532259\n",
      " --- \n",
      "Train(Epoch6): loss = 0.20113853722402494 | iou = 0.4075643520240914 | accuracy = 0.0 | sum = 6213.79195339255\n",
      "Validate(Epoch6): loss = 0.2320619451422845 | iou = 0.06294530054794685 | accuracy = 0.0 | sum = 3370.1033990675396\n",
      " --- \n",
      "Train(Epoch11): loss = 0.16222345471790392 | iou = 0.5377181466311625 | accuracy = 0.0 | sum = 6049.963424389982\n",
      "Validate(Epoch11): loss = 0.3041983386201243 | iou = 5.378646751670468e-06 | accuracy = 0.0 | sum = 1301.3816548009072\n",
      " --- \n",
      "Train(Epoch16): loss = 0.11431026356677486 | iou = 0.6754760631959732 | accuracy = 1.8264840136534115e-07 | sum = 6042.763463184929\n",
      "Validate(Epoch16): loss = 0.319485011600679 | iou = 0.4291648335995213 | accuracy = 0.0 | sum = 9822.012638608869\n",
      " --- \n",
      "Train(Epoch21): loss = 0.09132486015354117 | iou = 0.7446373015233915 | accuracy = 1.8264840136534115e-07 | sum = 6015.656533604452\n",
      "Validate(Epoch21): loss = 0.2655613999212942 | iou = 0.06109444911201154 | accuracy = 0.0 | sum = 1696.4854507938505\n",
      " --- \n",
      "Train(Epoch26): loss = 0.07345371070789965 | iou = 0.7990880469753318 | accuracy = 0.0 | sum = 6057.267207566353\n",
      "Validate(Epoch26): loss = 0.34525129247096276 | iou = 0.0 | accuracy = 0.0 | sum = 439.69453046244956\n",
      " --- \n",
      "Train(Epoch31): loss = 0.07033179090549685 | iou = 0.8044325831818254 | accuracy = 1.8264840136534115e-07 | sum = 6022.0932309503405\n",
      "Validate(Epoch31): loss = 0.6958269169253688 | iou = 0.365199627895509 | accuracy = 0.0 | sum = 15804.72506300403\n",
      " --- \n",
      "Train(Epoch36): loss = 0.062055015681337006 | iou = 0.8328901684447511 | accuracy = 3.652968027306823e-07 | sum = 6002.668102525685\n",
      "Validate(Epoch36): loss = 2.000298603888481 | iou = 0.3600930638851658 | accuracy = 0.0 | sum = 25558.797127016132\n",
      " --- \n",
      "Train(Epoch41): loss = 0.047404389369161165 | iou = 0.8666026004373211 | accuracy = 3.652968027306823e-07 | sum = 6093.383793075769\n",
      "Validate(Epoch41): loss = 0.3216259695829884 | iou = 3.933793144120324e-05 | accuracy = 0.0 | sum = 1826.7781202746974\n",
      " --- \n",
      "Train(Epoch46): loss = 0.03677720220580901 | iou = 0.9014278584963655 | accuracy = 1.8264840136534115e-07 | sum = 6094.653831335616\n",
      "Validate(Epoch46): loss = 0.191189746702871 | iou = 0.46868317742501536 | accuracy = 0.0 | sum = 5028.704778855846\n",
      " --- \n",
      "Train(Epoch51): loss = 0.02655269384817922 | iou = 0.9283573456006508 | accuracy = 0.0 | sum = 6021.670709813783\n",
      "Validate(Epoch51): loss = 0.1396148839304524 | iou = 0.5732071591961768 | accuracy = 0.0 | sum = 4404.121786794356\n",
      " --- \n",
      "Train(Epoch56): loss = 0.026519712392393858 | iou = 0.9293303563170237 | accuracy = 1.8264840136534115e-07 | sum = 6045.13062125428\n",
      "Validate(Epoch56): loss = 0.25184873803969354 | iou = 0.4842665147396826 | accuracy = 0.0 | sum = 9086.876940524193\n",
      " --- \n",
      "Train(Epoch61): loss = 0.023266649722083383 | iou = 0.9373525413748336 | accuracy = 1.8264840136534115e-07 | sum = 6102.2965867134\n",
      "Validate(Epoch61): loss = 0.3506722733859093 | iou = 0.0066195170999684885 | accuracy = 0.0 | sum = 168.36876171481228\n",
      " --- \n",
      "Train(Epoch66): loss = 0.020161354365720325 | iou = 0.9482822352892732 | accuracy = 0.0 | sum = 6095.558417166093\n",
      "Validate(Epoch66): loss = 0.30463118610843537 | iou = 0.47547989795284884 | accuracy = 0.0 | sum = 10349.17769657258\n",
      " --- \n",
      "Train(Epoch71): loss = 0.022242927815356892 | iou = 0.9388277171409294 | accuracy = 5.479452040960234e-07 | sum = 6051.861505377782\n",
      "Validate(Epoch71): loss = 0.5907809263275515 | iou = 0.3775309795333493 | accuracy = 0.0 | sum = 14568.36144153226\n",
      " --- \n",
      "Train(Epoch76): loss = 0.028410244796884386 | iou = 0.9276875747393255 | accuracy = 0.0 | sum = 6083.353023330481\n",
      "Validate(Epoch76): loss = 0.3408275746530102 | iou = 0.0020054151438319333 | accuracy = 0.0 | sum = 1849.9353074596772\n",
      " --- \n",
      "Train(Epoch81): loss = 0.01706508161780769 | iou = 0.9544016245293291 | accuracy = 7.305936054613646e-07 | sum = 6043.368319242296\n",
      "Validate(Epoch81): loss = 0.34101253555667016 | iou = 0.031437032615705844 | accuracy = 0.0 | sum = 300.80496077998987\n",
      " --- \n",
      "Train(Epoch86): loss = 0.01818923950067734 | iou = 0.9471261656447633 | accuracy = 0.0 | sum = 6072.257704141695\n",
      "Validate(Epoch86): loss = 0.2765463410365966 | iou = 0.19926887053635814 | accuracy = 0.0 | sum = 1290.8133879630795\n",
      " --- \n",
      "Train(Epoch91): loss = 0.02508479433312808 | iou = 0.9298781621946047 | accuracy = 3.652968027306823e-07 | sum = 6168.851589255139\n",
      "Validate(Epoch91): loss = 0.17126040112587712 | iou = 0.4921650203966325 | accuracy = 0.0 | sum = 3963.3415417086685\n",
      " --- \n",
      "Train(Epoch96): loss = 0.01856230178286564 | iou = 0.9489828613522935 | accuracy = 3.652968027306823e-07 | sum = 6107.893929259419\n",
      "Validate(Epoch96): loss = 0.3026923426697331 | iou = 0.16022032571415748 | accuracy = 0.0 | sum = 1601.1768066406246\n",
      " --- \n"
     ]
    }
   ],
   "source": [
    "EPOCHS = 100\n",
    "\n",
    "best_validation_loss = float(\"inf\")\n",
    "optimizer = optim.Adam(detector.parameters(), lr = 1e-3)\n",
    "criterion = nn.BCEWithLogitsLoss()\n",
    "\n",
    "for epoch in range(EPOCHS):\n",
    "    save_batch = epoch+1 == EPOCHS\n",
    "    t_loss, t_iou, t_acc, t_sum = train(detector, train_dl, optimizer, criterion, save_batch=save_batch)\n",
    "    v_loss, v_iou, v_acc, v_sum = validate(detector, valid_dl, criterion, save_batch=save_batch)\n",
    "\n",
    "    if epoch % 5 == 0:\n",
    "      print(f'Train(Epoch{epoch+1}): loss = {t_loss} | iou = {t_iou} | accuracy = {t_acc} | sum = {t_sum}')\n",
    "      print(f'Validate(Epoch{epoch+1}): loss = {v_loss} | iou = {v_iou} | accuracy = {v_acc} | sum = {v_sum}')\n",
    "      print(' --- ')\n",
    "\n",
    "    train_loss.append(t_loss)\n",
    "    val_loss.append(v_loss)\n",
    "    train_iou.append(t_iou)\n",
    "    val_iou.append(v_iou)\n",
    "\n",
    "    if epoch > 0 and best_validation_loss > v_loss:\n",
    "        best_validation_loss = v_loss\n",
    "        torch.save(detector, 'data/ltr_detector.pt')\n"
   ]
  },
  {
   "cell_type": "code",
   "execution_count": 8,
   "id": "qTov3Le2FzE2",
   "metadata": {
    "colab": {
     "base_uri": "https://localhost:8080/",
     "height": 235
    },
    "id": "qTov3Le2FzE2",
    "outputId": "a9ea7938-5d4a-4ae5-c7fa-4bdf789f4449"
   },
   "outputs": [
    {
     "ename": "NameError",
     "evalue": "ignored",
     "output_type": "error",
     "traceback": [
      "\u001b[0;31m---------------------------------------------------------------------------\u001b[0m",
      "\u001b[0;31mNameError\u001b[0m                                 Traceback (most recent call last)",
      "\u001b[0;32m<ipython-input-8-7c47dd60a4dc>\u001b[0m in \u001b[0;36m<module>\u001b[0;34m\u001b[0m\n\u001b[1;32m      1\u001b[0m results = {\n\u001b[0;32m----> 2\u001b[0;31m     \u001b[0;34m'val_example'\u001b[0m\u001b[0;34m:\u001b[0m \u001b[0mvexample\u001b[0m\u001b[0;34m,\u001b[0m\u001b[0;34m\u001b[0m\u001b[0;34m\u001b[0m\u001b[0m\n\u001b[0m\u001b[1;32m      3\u001b[0m     \u001b[0;34m'train_example'\u001b[0m\u001b[0;34m:\u001b[0m \u001b[0mtexample\u001b[0m\u001b[0;34m,\u001b[0m\u001b[0;34m\u001b[0m\u001b[0;34m\u001b[0m\u001b[0m\n\u001b[1;32m      4\u001b[0m     \u001b[0;34m'val_loss'\u001b[0m\u001b[0;34m:\u001b[0m \u001b[0mval_loss\u001b[0m\u001b[0;34m,\u001b[0m\u001b[0;34m\u001b[0m\u001b[0;34m\u001b[0m\u001b[0m\n\u001b[1;32m      5\u001b[0m     \u001b[0;34m'train_loss'\u001b[0m\u001b[0;34m:\u001b[0m \u001b[0mtrain_loss\u001b[0m\u001b[0;34m,\u001b[0m\u001b[0;34m\u001b[0m\u001b[0;34m\u001b[0m\u001b[0m\n",
      "\u001b[0;31mNameError\u001b[0m: name 'vexample' is not defined"
     ]
    }
   ],
   "source": [
    "results = {\n",
    "    'val_example': vexample,\n",
    "    'train_example': texample,\n",
    "    'val_loss': val_loss,\n",
    "    'train_loss': train_loss,\n",
    "    'val_iou': val_iou,\n",
    "    'train_iou': train_iou\n",
    "}"
   ]
  },
  {
   "cell_type": "code",
   "execution_count": 23,
   "id": "Zjcc0moIGWXG",
   "metadata": {
    "id": "Zjcc0moIGWXG"
   },
   "outputs": [],
   "source": [
    "r_file = open(f'data/results.pkl', 'wb')\n",
    "\n",
    "pickle.dump(results, r_file)\n",
    "\n",
    "r_file.close()"
   ]
  },
  {
   "cell_type": "code",
   "execution_count": 7,
   "id": "pGu33kqthWjV",
   "metadata": {
    "id": "pGu33kqthWjV"
   },
   "outputs": [],
   "source": [
    "r_file = open(f'data/results.pkl', 'rb')\n",
    "\n",
    "results = pickle.load(r_file)\n",
    "\n",
    "r_file.close()"
   ]
  },
  {
   "cell_type": "code",
   "execution_count": 9,
   "id": "qq8vEYFTHIXt",
   "metadata": {
    "colab": {
     "base_uri": "https://localhost:8080/",
     "height": 295
    },
    "id": "qq8vEYFTHIXt",
    "outputId": "c67be9ec-dd48-4f55-a7e0-7f78c14cadca"
   },
   "outputs": [
    {
     "data": {
      "image/png": "[encoded data removed]",
      "text/plain": [
       "<Figure size 432x288 with 1 Axes>"
      ]
     },
     "metadata": {
      "needs_background": "light"
     },
     "output_type": "display_data"
    }
   ],
   "source": [
    "epochs = range(1, 101)\n",
    "\n",
    "plt.plot(epochs, results['train_loss'], label='Training Loss')\n",
    " \n",
    "# Add in a title and axes labels\n",
    "plt.title('Training and Validation Loss')\n",
    "plt.xlabel('Epochs')\n",
    "plt.ylabel('Loss')\n",
    " \n",
    "# Set the tick locations\n",
    "plt.xticks(np.arange(0, 100, 5))\n",
    " \n",
    "# Display the plot\n",
    "plt.legend(loc='best')\n",
    "plt.show()"
   ]
  },
  {
   "cell_type": "code",
   "execution_count": 10,
   "id": "bjLICY47ITqc",
   "metadata": {
    "colab": {
     "base_uri": "https://localhost:8080/",
     "height": 295
    },
    "id": "bjLICY47ITqc",
    "outputId": "7384c81a-297f-4a6e-8233-a72ca0bf8a8a"
   },
   "outputs": [
    {
     "data": {
      "image/png": "[encoded data removed]",
      "text/plain": [
       "<Figure size 432x288 with 1 Axes>"
      ]
     },
     "metadata": {
      "needs_background": "light"
     },
     "output_type": "display_data"
    }
   ],
   "source": [
    "epochs = range(1, 101)\n",
    "\n",
    "plt.plot(epochs, results['val_loss'], label='Validation Loss')\n",
    " \n",
    "# Add in a title and axes labels\n",
    "plt.title('Validation Loss')\n",
    "plt.xlabel('Epochs')\n",
    "plt.ylabel('Loss')\n",
    " \n",
    "# Set the tick locations\n",
    "plt.xticks(np.arange(0, 100, 5))\n",
    " \n",
    "# Display the plot\n",
    "plt.legend(loc='best')\n",
    "plt.show()"
   ]
  },
  {
   "cell_type": "code",
   "execution_count": 11,
   "id": "gA1SptVnIbI7",
   "metadata": {
    "colab": {
     "base_uri": "https://localhost:8080/",
     "height": 295
    },
    "id": "gA1SptVnIbI7",
    "outputId": "8e2f7012-eabf-462b-d15f-0fbf70cb11c8"
   },
   "outputs": [
    {
     "data": {
      "image/png": "[encoded data removed]",
      "text/plain": [
       "<Figure size 432x288 with 1 Axes>"
      ]
     },
     "metadata": {
      "needs_background": "light"
     },
     "output_type": "display_data"
    }
   ],
   "source": [
    "epochs = range(1, 101)\n",
    "\n",
    "plt.plot(epochs, results['train_iou'], label='Training IOU')\n",
    " \n",
    "# Add in a title and axes labels\n",
    "plt.title('Training IOU')\n",
    "plt.xlabel('Epochs')\n",
    "plt.ylabel('Loss')\n",
    " \n",
    "# Set the tick locations\n",
    "plt.xticks(np.arange(0, 100, 5))\n",
    " \n",
    "# Display the plot\n",
    "plt.legend(loc='best')\n",
    "plt.show()"
   ]
  },
  {
   "cell_type": "code",
   "execution_count": 12,
   "id": "WwHI644sIidX",
   "metadata": {
    "colab": {
     "base_uri": "https://localhost:8080/",
     "height": 295
    },
    "id": "WwHI644sIidX",
    "outputId": "5c6cdf66-98d8-46f0-b19a-5971f82b4775"
   },
   "outputs": [
    {
     "data": {
      "image/png": "[encoded data removed]",
      "text/plain": [
       "<Figure size 432x288 with 1 Axes>"
      ]
     },
     "metadata": {
      "needs_background": "light"
     },
     "output_type": "display_data"
    }
   ],
   "source": [
    "epochs = range(1, 101)\n",
    "\n",
    "plt.plot(epochs, results['val_iou'], label='Validation IOU')\n",
    " \n",
    "# Add in a title and axes labels\n",
    "plt.title('Validation IOU')\n",
    "plt.xlabel('Epochs')\n",
    "plt.ylabel('Loss')\n",
    " \n",
    "# Set the tick locations\n",
    "plt.xticks(np.arange(0, 100, 5))\n",
    " \n",
    "# Display the plot\n",
    "plt.legend(loc='best')\n",
    "plt.show()"
   ]
  },
  {
   "cell_type": "code",
   "execution_count": 13,
   "id": "SA2JUP5Kxv1Y",
   "metadata": {
    "colab": {
     "base_uri": "https://localhost:8080/",
     "height": 652
    },
    "id": "SA2JUP5Kxv1Y",
    "outputId": "59abf1fb-6ab2-4d96-ae35-007724815359"
   },
   "outputs": [
    {
     "name": "stdout",
     "output_type": "stream",
     "text": [
      "TE size: 6572.0\n",
      "Total predicted locations: 8662.0\n",
      "True positive sum: 6482.0\n",
      "False positive sum 2179.0\n",
      " --- \n",
      "\n",
      "TE size: 1877.0\n",
      "Total predicted locations: 8072.0\n",
      "True positive sum: 1876.0\n",
      "False positive sum 6195.0\n",
      " --- \n",
      "\n",
      "TE size: 14625.0\n",
      "Total predicted locations: 6499.0\n",
      "True positive sum: 6365.0\n",
      "False positive sum 134.0\n",
      " --- \n",
      "\n",
      "TE size: 4989.0\n",
      "Total predicted locations: 6936.0\n",
      "True positive sum: 2984.0\n",
      "False positive sum 3951.0\n",
      " --- \n",
      "\n"
     ]
    },
    {
     "ename": "IndexError",
     "evalue": "ignored",
     "output_type": "error",
     "traceback": [
      "\u001b[0;31m---------------------------------------------------------------------------\u001b[0m",
      "\u001b[0;31mIndexError\u001b[0m                                Traceback (most recent call last)",
      "\u001b[0;32m<ipython-input-13-3de227a37a8d>\u001b[0m in \u001b[0;36m<module>\u001b[0;34m\u001b[0m\n\u001b[1;32m      2\u001b[0m \u001b[0;34m\u001b[0m\u001b[0m\n\u001b[1;32m      3\u001b[0m \u001b[0;32mfor\u001b[0m \u001b[0mi\u001b[0m \u001b[0;32min\u001b[0m \u001b[0mrange\u001b[0m\u001b[0;34m(\u001b[0m\u001b[0;36m5\u001b[0m\u001b[0;34m)\u001b[0m\u001b[0;34m:\u001b[0m\u001b[0;34m\u001b[0m\u001b[0;34m\u001b[0m\u001b[0m\n\u001b[0;32m----> 4\u001b[0;31m   \u001b[0mtotaly\u001b[0m \u001b[0;34m=\u001b[0m \u001b[0mtorch\u001b[0m\u001b[0;34m.\u001b[0m\u001b[0msum\u001b[0m\u001b[0;34m(\u001b[0m\u001b[0mvexample\u001b[0m\u001b[0;34m[\u001b[0m\u001b[0;34m'y'\u001b[0m\u001b[0;34m]\u001b[0m\u001b[0;34m[\u001b[0m\u001b[0mi\u001b[0m\u001b[0;34m]\u001b[0m\u001b[0;34m)\u001b[0m\u001b[0;34m.\u001b[0m\u001b[0mitem\u001b[0m\u001b[0;34m(\u001b[0m\u001b[0;34m)\u001b[0m\u001b[0;34m\u001b[0m\u001b[0;34m\u001b[0m\u001b[0m\n\u001b[0m\u001b[1;32m      5\u001b[0m   \u001b[0mtotalpred\u001b[0m \u001b[0;34m=\u001b[0m \u001b[0mtorch\u001b[0m\u001b[0;34m.\u001b[0m\u001b[0msum\u001b[0m\u001b[0;34m(\u001b[0m\u001b[0mvexample\u001b[0m\u001b[0;34m[\u001b[0m\u001b[0;34m'prediction'\u001b[0m\u001b[0;34m]\u001b[0m\u001b[0;34m[\u001b[0m\u001b[0mi\u001b[0m\u001b[0;34m]\u001b[0m\u001b[0;34m)\u001b[0m\u001b[0;34m.\u001b[0m\u001b[0mitem\u001b[0m\u001b[0;34m(\u001b[0m\u001b[0;34m)\u001b[0m\u001b[0;34m\u001b[0m\u001b[0;34m\u001b[0m\u001b[0m\n\u001b[1;32m      6\u001b[0m   \u001b[0mprint\u001b[0m\u001b[0;34m(\u001b[0m\u001b[0;34mf'TE size: {totaly}'\u001b[0m\u001b[0;34m)\u001b[0m\u001b[0;34m\u001b[0m\u001b[0;34m\u001b[0m\u001b[0m\n",
      "\u001b[0;31mIndexError\u001b[0m: index 4 is out of bounds for dimension 0 with size 4"
     ]
    }
   ],
   "source": [
    "vexample = results['val_example']\n",
    "\n",
    "for i in range(5):\n",
    "  totaly = torch.sum(vexample['y'][i]).item()\n",
    "  totalpred = torch.sum(vexample['prediction'][i]).item()\n",
    "  print(f'TE size: {totaly}')\n",
    "  print(f'Total predicted locations: {totalpred}')\n",
    "\n",
    "  te_start = (vexample['y'][i] == 1).nonzero(as_tuple=True)[0][0].item()\n",
    "  te_end = (vexample['y'][i] == 1).nonzero(as_tuple=True)[0][-1].item()\n",
    "\n",
    "  tp_sum = vexample['prediction'][i][te_start:te_end].sum()\n",
    "  print(f'True positive sum: {tp_sum.item()}')\n",
    "\n",
    "  fp_sum = vexample['prediction'][i][0:te_start].sum() + vexample['prediction'][i][te_end+1:-1].sum()\n",
    "  print(f'False positive sum {fp_sum.item()}')\n",
    "  print(' --- ')\n",
    "  print('')\n"
   ]
  },
  {
   "cell_type": "code",
   "execution_count": 15,
   "id": "AE3HTmDvBBor",
   "metadata": {
    "colab": {
     "base_uri": "https://localhost:8080/",
     "height": 443
    },
    "id": "AE3HTmDvBBor",
    "outputId": "85410bc7-daeb-47c1-f4dc-8b1ef2bad473"
   },
   "outputs": [
    {
     "name": "stdout",
     "output_type": "stream",
     "text": [
      "TE size: 1881.0\n",
      "Total predicted locations: 3447.0\n",
      "True positive sum: 1820.0\n",
      "False positive sum 1627.0\n",
      " --- \n",
      "\n",
      "TE size: 7518.0\n",
      "Total predicted locations: 5022.0\n",
      "True positive sum: 4518.0\n",
      "False positive sum 503.0\n",
      " --- \n",
      "\n"
     ]
    },
    {
     "ename": "IndexError",
     "evalue": "ignored",
     "output_type": "error",
     "traceback": [
      "\u001b[0;31m---------------------------------------------------------------------------\u001b[0m",
      "\u001b[0;31mIndexError\u001b[0m                                Traceback (most recent call last)",
      "\u001b[0;32m<ipython-input-15-7d69dcbec060>\u001b[0m in \u001b[0;36m<module>\u001b[0;34m\u001b[0m\n\u001b[1;32m      2\u001b[0m \u001b[0;34m\u001b[0m\u001b[0m\n\u001b[1;32m      3\u001b[0m \u001b[0;32mfor\u001b[0m \u001b[0mi\u001b[0m \u001b[0;32min\u001b[0m \u001b[0mrange\u001b[0m\u001b[0;34m(\u001b[0m\u001b[0;36m5\u001b[0m\u001b[0;34m)\u001b[0m\u001b[0;34m:\u001b[0m\u001b[0;34m\u001b[0m\u001b[0;34m\u001b[0m\u001b[0m\n\u001b[0;32m----> 4\u001b[0;31m   \u001b[0mtotaly\u001b[0m \u001b[0;34m=\u001b[0m \u001b[0mtorch\u001b[0m\u001b[0;34m.\u001b[0m\u001b[0msum\u001b[0m\u001b[0;34m(\u001b[0m\u001b[0mtexample\u001b[0m\u001b[0;34m[\u001b[0m\u001b[0;34m'y'\u001b[0m\u001b[0;34m]\u001b[0m\u001b[0;34m[\u001b[0m\u001b[0mi\u001b[0m\u001b[0;34m]\u001b[0m\u001b[0;34m)\u001b[0m\u001b[0;34m.\u001b[0m\u001b[0mitem\u001b[0m\u001b[0;34m(\u001b[0m\u001b[0;34m)\u001b[0m\u001b[0;34m\u001b[0m\u001b[0;34m\u001b[0m\u001b[0m\n\u001b[0m\u001b[1;32m      5\u001b[0m   \u001b[0mtotalpred\u001b[0m \u001b[0;34m=\u001b[0m \u001b[0mtorch\u001b[0m\u001b[0;34m.\u001b[0m\u001b[0msum\u001b[0m\u001b[0;34m(\u001b[0m\u001b[0mtexample\u001b[0m\u001b[0;34m[\u001b[0m\u001b[0;34m'prediction'\u001b[0m\u001b[0;34m]\u001b[0m\u001b[0;34m[\u001b[0m\u001b[0mi\u001b[0m\u001b[0;34m]\u001b[0m\u001b[0;34m)\u001b[0m\u001b[0;34m.\u001b[0m\u001b[0mitem\u001b[0m\u001b[0;34m(\u001b[0m\u001b[0;34m)\u001b[0m\u001b[0;34m\u001b[0m\u001b[0;34m\u001b[0m\u001b[0m\n\u001b[1;32m      6\u001b[0m   \u001b[0mprint\u001b[0m\u001b[0;34m(\u001b[0m\u001b[0;34mf'TE size: {totaly}'\u001b[0m\u001b[0;34m)\u001b[0m\u001b[0;34m\u001b[0m\u001b[0;34m\u001b[0m\u001b[0m\n",
      "\u001b[0;31mIndexError\u001b[0m: index 2 is out of bounds for dimension 0 with size 2"
     ]
    }
   ],
   "source": [
    "texample = results['train_example']\n",
    "\n",
    "for i in range(5):\n",
    "  totaly = torch.sum(texample['y'][i]).item()\n",
    "  totalpred = torch.sum(texample['prediction'][i]).item()\n",
    "  print(f'TE size: {totaly}')\n",
    "  print(f'Total predicted locations: {totalpred}')\n",
    "\n",
    "  te_start = (texample['y'][i] == 1).nonzero(as_tuple=True)[0][0].item()\n",
    "  te_end = (texample['y'][i] == 1).nonzero(as_tuple=True)[0][-1].item()\n",
    "\n",
    "  tp_sum = texample['prediction'][i][te_start:te_end].sum()\n",
    "  print(f'True positive sum: {tp_sum.item()}')\n",
    "\n",
    "  fp_sum = texample['prediction'][i][0:te_start].sum() + texample['prediction'][i][te_end+1:-1].sum()\n",
    "  print(f'False positive sum {fp_sum.item()}')\n",
    "  print(' --- ')\n",
    "  print('')\n"
   ]
  },
  {
   "cell_type": "code",
   "execution_count": 16,
   "id": "oMZUiFjBJeRr",
   "metadata": {
    "colab": {
     "base_uri": "https://localhost:8080/",
     "height": 794
    },
    "id": "oMZUiFjBJeRr",
    "outputId": "deeeaf5a-1dfa-4114-ee21-d93be762a949"
   },
   "outputs": [
    {
     "data": {
      "image/png": "[encoded data removed]",
      "text/plain": [
       "<Figure size 432x288 with 2 Axes>"
      ]
     },
     "metadata": {
      "needs_background": "light"
     },
     "output_type": "display_data"
    },
    {
     "name": "stdout",
     "output_type": "stream",
     "text": [
      "           --- \n"
     ]
    },
    {
     "data": {
      "image/png": "[encoded data removed]",
      "text/plain": [
       "<Figure size 432x288 with 2 Axes>"
      ]
     },
     "metadata": {
      "needs_background": "light"
     },
     "output_type": "display_data"
    },
    {
     "name": "stdout",
     "output_type": "stream",
     "text": [
      "           --- \n"
     ]
    },
    {
     "ename": "IndexError",
     "evalue": "ignored",
     "output_type": "error",
     "traceback": [
      "\u001b[0;31m---------------------------------------------------------------------------\u001b[0m",
      "\u001b[0;31mIndexError\u001b[0m                                Traceback (most recent call last)",
      "\u001b[0;32m<ipython-input-16-3607457db85d>\u001b[0m in \u001b[0;36m<module>\u001b[0;34m\u001b[0m\n\u001b[1;32m      3\u001b[0m \u001b[0;34m\u001b[0m\u001b[0m\n\u001b[1;32m      4\u001b[0m \u001b[0;32mfor\u001b[0m \u001b[0mi\u001b[0m \u001b[0;32min\u001b[0m \u001b[0mrange\u001b[0m\u001b[0;34m(\u001b[0m\u001b[0;36m5\u001b[0m\u001b[0;34m)\u001b[0m\u001b[0;34m:\u001b[0m\u001b[0;34m\u001b[0m\u001b[0;34m\u001b[0m\u001b[0m\n\u001b[0;32m----> 5\u001b[0;31m   \u001b[0mcm\u001b[0m \u001b[0;34m=\u001b[0m \u001b[0msk\u001b[0m\u001b[0;34m.\u001b[0m\u001b[0mconfusion_matrix\u001b[0m\u001b[0;34m(\u001b[0m\u001b[0mtrain_prediction_ex\u001b[0m\u001b[0;34m[\u001b[0m\u001b[0mi\u001b[0m\u001b[0;34m]\u001b[0m\u001b[0;34m,\u001b[0m \u001b[0mtrain_target_ex\u001b[0m\u001b[0;34m[\u001b[0m\u001b[0mi\u001b[0m\u001b[0;34m]\u001b[0m\u001b[0;34m)\u001b[0m\u001b[0;34m\u001b[0m\u001b[0;34m\u001b[0m\u001b[0m\n\u001b[0m\u001b[1;32m      6\u001b[0m   \u001b[0mdisp\u001b[0m \u001b[0;34m=\u001b[0m \u001b[0msk\u001b[0m\u001b[0;34m.\u001b[0m\u001b[0mConfusionMatrixDisplay\u001b[0m\u001b[0;34m(\u001b[0m\u001b[0mconfusion_matrix\u001b[0m\u001b[0;34m=\u001b[0m\u001b[0mcm\u001b[0m\u001b[0;34m)\u001b[0m\u001b[0;34m\u001b[0m\u001b[0;34m\u001b[0m\u001b[0m\n\u001b[1;32m      7\u001b[0m   \u001b[0mdisp\u001b[0m\u001b[0;34m.\u001b[0m\u001b[0mplot\u001b[0m\u001b[0;34m(\u001b[0m\u001b[0;34m)\u001b[0m\u001b[0;34m\u001b[0m\u001b[0;34m\u001b[0m\u001b[0m\n",
      "\u001b[0;31mIndexError\u001b[0m: index 2 is out of bounds for axis 0 with size 2"
     ]
    }
   ],
   "source": [
    "train_prediction_ex = torch.Tensor.cpu(results['train_example']['prediction']).detach().numpy()\n",
    "train_target_ex = torch.Tensor.cpu(results['train_example']['y']).detach().numpy()\n",
    "\n",
    "for i in range(5):\n",
    "  cm = sk.confusion_matrix(train_prediction_ex[i], train_target_ex[i])\n",
    "  disp = sk.ConfusionMatrixDisplay(confusion_matrix=cm)\n",
    "  disp.plot()\n",
    "  plt.show()\n",
    "  print('           --- ')"
   ]
  },
  {
   "cell_type": "code",
   "execution_count": null,
   "id": "hFRM6zDfLpMv",
   "metadata": {
    "colab": {
     "base_uri": "https://localhost:8080/"
    },
    "id": "hFRM6zDfLpMv",
    "outputId": "fcd05fb8-d152-445a-ae57-f0ed2d7a69a0"
   },
   "outputs": [
    {
     "name": "stdout",
     "output_type": "stream",
     "text": [
      "2.0\n",
      "4731\n",
      " --- \n"
     ]
    }
   ],
   "source": [
    "# t = (results['val_example']['prediction'][2] == 1).float().sum() + (results['val_example']['prediction'][2] == 0).float().sum()\n",
    "\n",
    "\n",
    "for i, item in enumerate(results['val_example']['prediction'][2]):\n",
    "  if item.item() != 1.0 and item.item() != 0.0:\n",
    "    print(item.item())\n",
    "    print(i)\n",
    "    print(' --- ')\n",
    "\n",
    "\n",
    "# results['val_example']['prediction'][2][0].item() == 0.0"
   ]
  },
  {
   "cell_type": "code",
   "execution_count": 17,
   "id": "Qe90Uog4LZCU",
   "metadata": {
    "colab": {
     "base_uri": "https://localhost:8080/",
     "height": 1000
    },
    "id": "Qe90Uog4LZCU",
    "outputId": "5b00bd68-6a7e-4125-ac75-4564ad77176c"
   },
   "outputs": [
    {
     "data": {
      "image/png": "[encoded data removed]",
      "text/plain": [
       "<Figure size 432x288 with 2 Axes>"
      ]
     },
     "metadata": {
      "needs_background": "light"
     },
     "output_type": "display_data"
    },
    {
     "name": "stdout",
     "output_type": "stream",
     "text": [
      "              --- \n"
     ]
    },
    {
     "data": {
      "image/png": "[encoded data removed]",
      "text/plain": [
       "<Figure size 432x288 with 2 Axes>"
      ]
     },
     "metadata": {
      "needs_background": "light"
     },
     "output_type": "display_data"
    },
    {
     "name": "stdout",
     "output_type": "stream",
     "text": [
      "              --- \n"
     ]
    },
    {
     "data": {
      "image/png": "[encoded data removed]",
      "text/plain": [
       "<Figure size 432x288 with 2 Axes>"
      ]
     },
     "metadata": {
      "needs_background": "light"
     },
     "output_type": "display_data"
    },
    {
     "name": "stdout",
     "output_type": "stream",
     "text": [
      "              --- \n"
     ]
    },
    {
     "data": {
      "image/png": "[encoded data removed]",
      "text/plain": [
       "<Figure size 432x288 with 2 Axes>"
      ]
     },
     "metadata": {
      "needs_background": "light"
     },
     "output_type": "display_data"
    },
    {
     "name": "stdout",
     "output_type": "stream",
     "text": [
      "              --- \n"
     ]
    },
    {
     "ename": "IndexError",
     "evalue": "ignored",
     "output_type": "error",
     "traceback": [
      "\u001b[0;31m---------------------------------------------------------------------------\u001b[0m",
      "\u001b[0;31mIndexError\u001b[0m                                Traceback (most recent call last)",
      "\u001b[0;32m<ipython-input-17-320402091300>\u001b[0m in \u001b[0;36m<module>\u001b[0;34m\u001b[0m\n\u001b[1;32m      3\u001b[0m \u001b[0;34m\u001b[0m\u001b[0m\n\u001b[1;32m      4\u001b[0m \u001b[0;32mfor\u001b[0m \u001b[0mi\u001b[0m \u001b[0;32min\u001b[0m \u001b[0mrange\u001b[0m\u001b[0;34m(\u001b[0m\u001b[0;36m5\u001b[0m\u001b[0;34m)\u001b[0m\u001b[0;34m:\u001b[0m\u001b[0;34m\u001b[0m\u001b[0;34m\u001b[0m\u001b[0m\n\u001b[0;32m----> 5\u001b[0;31m   \u001b[0mcm\u001b[0m \u001b[0;34m=\u001b[0m \u001b[0msk\u001b[0m\u001b[0;34m.\u001b[0m\u001b[0mconfusion_matrix\u001b[0m\u001b[0;34m(\u001b[0m\u001b[0mval_prediction_ex\u001b[0m\u001b[0;34m[\u001b[0m\u001b[0mi\u001b[0m\u001b[0;34m]\u001b[0m\u001b[0;34m,\u001b[0m \u001b[0mval_target_ex\u001b[0m\u001b[0;34m[\u001b[0m\u001b[0mi\u001b[0m\u001b[0;34m]\u001b[0m\u001b[0;34m)\u001b[0m\u001b[0;34m\u001b[0m\u001b[0;34m\u001b[0m\u001b[0m\n\u001b[0m\u001b[1;32m      6\u001b[0m   \u001b[0mdisp\u001b[0m \u001b[0;34m=\u001b[0m \u001b[0msk\u001b[0m\u001b[0;34m.\u001b[0m\u001b[0mConfusionMatrixDisplay\u001b[0m\u001b[0;34m(\u001b[0m\u001b[0mconfusion_matrix\u001b[0m\u001b[0;34m=\u001b[0m\u001b[0mcm\u001b[0m\u001b[0;34m)\u001b[0m\u001b[0;34m\u001b[0m\u001b[0;34m\u001b[0m\u001b[0m\n\u001b[1;32m      7\u001b[0m   \u001b[0mdisp\u001b[0m\u001b[0;34m.\u001b[0m\u001b[0mplot\u001b[0m\u001b[0;34m(\u001b[0m\u001b[0;34m)\u001b[0m\u001b[0;34m\u001b[0m\u001b[0;34m\u001b[0m\u001b[0m\n",
      "\u001b[0;31mIndexError\u001b[0m: index 4 is out of bounds for axis 0 with size 4"
     ]
    }
   ],
   "source": [
    "val_prediction_ex = torch.Tensor.cpu(results['val_example']['prediction']).detach().numpy()\n",
    "val_target_ex = torch.Tensor.cpu(results['val_example']['y']).detach().numpy()\n",
    "\n",
    "for i in range(5):\n",
    "  cm = sk.confusion_matrix(val_prediction_ex[i], val_target_ex[i])\n",
    "  disp = sk.ConfusionMatrixDisplay(confusion_matrix=cm)\n",
    "  disp.plot()\n",
    "  plt.show()\n",
    "  print('              --- ')"
   ]
  }
 ],
 "metadata": {
  "accelerator": "GPU",
  "colab": {
   "provenance": []
  },
  "gpuClass": "standard",
  "kernelspec": {
   "display_name": "Python 3 (ipykernel)",
   "language": "python",
   "name": "python3"
  },
  "language_info": {
   "codemirror_mode": {
    "name": "ipython",
    "version": 3
   },
   "file_extension": ".py",
   "mimetype": "text/x-python",
   "name": "python",
   "nbconvert_exporter": "python",
   "pygments_lexer": "ipython3",
   "version": "3.9.13"
  }
 },
 "nbformat": 4,
 "nbformat_minor": 5
}
